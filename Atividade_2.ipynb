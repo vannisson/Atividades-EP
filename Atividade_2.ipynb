{
  "nbformat": 4,
  "nbformat_minor": 0,
  "metadata": {
    "colab": {
      "name": "Atividade - 2.ipynb",
      "provenance": []
    },
    "kernelspec": {
      "name": "python3",
      "display_name": "Python 3"
    },
    "language_info": {
      "name": "python"
    }
  },
  "cells": [
    {
      "cell_type": "markdown",
      "metadata": {
        "id": "mKs57ma9kMWQ"
      },
      "source": [
        "# Atividade 2\n",
        "O dataset utilizado nessa atividade é relacionado a jogos de xadrez realizados em uma plataforma de jogos online na qual é análisado a cor, \"white\" ou \"black\", que mais venceu partidas. A plataforma de jogos está disponível em:\n",
        "https://lichess.org/.\n",
        "\n",
        "O link para acesso do dataset utilizado é: https://www.kaggle.com/datasnaek/chess\n",
        "\n",
        "Durante essa atividade foi utilizado um dataset que foi adaptado a utilizar variável de Bernoulli e através dele foi realizada as seguintes tarefas:\n",
        "\n",
        "*   Realizar os 3 tipos de amostra(Aleatória, Estratificada e Sistemática)\n",
        "*   Calcular p e q, média e desvio padrão para a variável de Bernoulli\n",
        "*   Modelar a distribuição de probabilidade Binomial para a variável em n tentativas\n",
        "\n",
        "\n"
      ]
    },
    {
      "cell_type": "code",
      "metadata": {
        "colab": {
          "base_uri": "https://localhost:8080/"
        },
        "id": "8f3NUvVOjUMo",
        "outputId": "d02e0ba4-4a2c-4e34-c3b0-188df8e42b3f"
      },
      "source": [
        "# Importanto bibliotecas e o dataset\n",
        "import random\n",
        "import pandas as pd\n",
        "import matplotlib.pyplot as plt\n",
        "import numpy as np\n",
        "\n",
        "url = \"https://raw.githubusercontent.com/vannisson/Atv-EP/main/games.csv\"\n",
        "aux = pd.read_csv(url,usecols=[6])\n",
        "vencedor = aux['winner'].tolist()\n",
        "\n",
        "#Agora temos nossa lista, porém precisamos remover o estado \"draw\" para que ela se torne Bernoulli\n",
        "#A função \"remove\" exclui apenas uma ocorrência, então usamos o while para fazer isso enquanto houver \"draw\" na lista\n",
        "while \"draw\" in vencedor:\n",
        "  vencedor.remove(\"draw\")\n",
        "\n",
        "#Depois de remover o draw temos uma li\n",
        "len(vencedor)"
      ],
      "execution_count": null,
      "outputs": [
        {
          "output_type": "execute_result",
          "data": {
            "text/plain": [
              "19108"
            ]
          },
          "metadata": {
            "tags": []
          },
          "execution_count": 76
        }
      ]
    },
    {
      "cell_type": "markdown",
      "metadata": {
        "id": "70doxZF8i-_i"
      },
      "source": [
        "# Realizando as amostras\n",
        "* Amostra aleatória\n"
      ]
    },
    {
      "cell_type": "code",
      "metadata": {
        "id": "82sug-LLiveJ"
      },
      "source": [
        "amostra_aleatoria = random.sample(vencedor,50)\n",
        "amostra_aleatoria\n"
      ],
      "execution_count": null,
      "outputs": []
    },
    {
      "cell_type": "markdown",
      "metadata": {
        "id": "xbgmuPBWjxoK"
      },
      "source": [
        "* Amostra Estratificada"
      ]
    },
    {
      "cell_type": "code",
      "metadata": {
        "id": "F9YhXgZEj1sv"
      },
      "source": [
        "amostra_estratificada = []\n",
        "amostra_estratificada.append(random.sample(vencedor,50))\n",
        "amostra_estratificada.append(random.sample(vencedor,50))\n",
        "amostra_estratificada.append(random.sample(vencedor,50))\n",
        "\n",
        "amostra_estratificada"
      ],
      "execution_count": null,
      "outputs": []
    },
    {
      "cell_type": "markdown",
      "metadata": {
        "id": "eTCYvHu_j4Nv"
      },
      "source": [
        "* Amostra Sistemática"
      ]
    },
    {
      "cell_type": "code",
      "metadata": {
        "id": "CeVoJuSXj73A"
      },
      "source": [
        "amostra_selecionada = [vencedor[i] for i in range(0,19108,50)]\n",
        "amostra_selecionada"
      ],
      "execution_count": null,
      "outputs": []
    },
    {
      "cell_type": "markdown",
      "metadata": {
        "id": "zB9aoca4lKUI"
      },
      "source": [
        "# Calculando dados estatísticos da variável de Bernoulli\n",
        "\n",
        "Para facilitar a utilização dos dados em cálculos iremos assumir o seguinte:\n",
        "\n",
        "* Se for \"white\" então assume o valor 0;\n",
        "* Se for \"black\" então assume o valor 1;\n",
        "\n",
        "e para isso percorreremos nossos dados e criaremos uma nova lista, mas com os atributos que escolhemos.\n",
        "\n",
        "\n",
        "\n"
      ]
    },
    {
      "cell_type": "code",
      "metadata": {
        "id": "PQBxGyJ0nVGh"
      },
      "source": [
        "lista_formatada = []\n",
        "for i in range(len(vencedor)):\n",
        "  if vencedor[i] == \"white\":\n",
        "    lista_formatada.append(0)\n",
        "  elif vencedor[i] == \"black\":\n",
        "    lista_formatada.append(1)\n",
        "lista_formatada"
      ],
      "execution_count": null,
      "outputs": []
    },
    {
      "cell_type": "markdown",
      "metadata": {
        "id": "mMWI5U_OnwQA"
      },
      "source": [
        "## Descobrindo p e q\n",
        "* p representa \"white\";\n",
        "* q representa \"black\";"
      ]
    },
    {
      "cell_type": "code",
      "metadata": {
        "colab": {
          "base_uri": "https://localhost:8080/"
        },
        "id": "4IqJ4N0Slhq6",
        "outputId": "c78f9ebd-2359-47c0-9f51-55c5ea667a46"
      },
      "source": [
        "p = 0\n",
        "q = 0\n",
        "for i in lista_formatada:\n",
        "  if i == 0:\n",
        "    p += 1\n",
        "  elif i == 1:\n",
        "    q += 1\n",
        "p = p / len(lista_formatada)\n",
        "q = q / len(lista_formatada)\n",
        "p,q"
      ],
      "execution_count": null,
      "outputs": [
        {
          "output_type": "execute_result",
          "data": {
            "text/plain": [
              "(0.5233933431023655, 0.4766066568976345)"
            ]
          },
          "metadata": {
            "tags": []
          },
          "execution_count": 81
        }
      ]
    },
    {
      "cell_type": "markdown",
      "metadata": {
        "id": "w9GsK6fnljI2"
      },
      "source": [
        "*   Média;\n",
        "\n",
        "\n"
      ]
    },
    {
      "cell_type": "code",
      "metadata": {
        "colab": {
          "base_uri": "https://localhost:8080/"
        },
        "id": "LIhfe-hvlnhe",
        "outputId": "840a9f9b-a1b0-4221-8900-9b1ede65fc06"
      },
      "source": [
        "media = 0\n",
        "for i in lista_formatada:\n",
        "  media += i\n",
        "media = round(media/len(lista_formatada),2)\n",
        "media"
      ],
      "execution_count": null,
      "outputs": [
        {
          "output_type": "execute_result",
          "data": {
            "text/plain": [
              "0.48"
            ]
          },
          "metadata": {
            "tags": []
          },
          "execution_count": 82
        }
      ]
    },
    {
      "cell_type": "markdown",
      "metadata": {
        "id": "Ti7TXIyPlp7e"
      },
      "source": [
        "*   Desvio padrão;"
      ]
    },
    {
      "cell_type": "code",
      "metadata": {
        "id": "v8PTmyzxltgv",
        "colab": {
          "base_uri": "https://localhost:8080/"
        },
        "outputId": "75318e11-8648-4035-dead-e4bd03768854"
      },
      "source": [
        "# Calculando a variância para depois fazer o desvio padrão\n",
        "variancia = 0\n",
        "for i in lista_formatada:\n",
        "  variancia += (i - media)**2\n",
        "variancia = variancia/len(lista_formatada)\n",
        "\n",
        "# Agora iremos calcular o desvio padrão\n",
        "desvio = variancia**(1/2)\n",
        "\n",
        "variancia, desvio"
      ],
      "execution_count": null,
      "outputs": [
        {
          "output_type": "execute_result",
          "data": {
            "text/plain": [
              "(0.2494642662759152, 0.49946397895735706)"
            ]
          },
          "metadata": {
            "tags": []
          },
          "execution_count": 83
        }
      ]
    },
    {
      "cell_type": "markdown",
      "metadata": {
        "id": "zaz2WTtAxI4k"
      },
      "source": [
        "# Distribuição de probabilidade Binomial\n",
        "\n",
        "* Criando uma função para calcular o fatorial;"
      ]
    },
    {
      "cell_type": "code",
      "metadata": {
        "id": "2oqBb0eLxeVt"
      },
      "source": [
        "# Função fatorial\n",
        "def fatorial(num):\n",
        "    fatorial = 1\n",
        "    i = 2\n",
        "    while i <= num:\n",
        "        fatorial = fatorial*i\n",
        "        i = i + 1\n",
        "    return fatorial"
      ],
      "execution_count": null,
      "outputs": []
    },
    {
      "cell_type": "markdown",
      "metadata": {
        "id": "5db0tLeMye8_"
      },
      "source": [
        "* Agora uma função para calcular a probabilidade Binomial e calcular;"
      ]
    },
    {
      "cell_type": "code",
      "metadata": {
        "colab": {
          "base_uri": "https://localhost:8080/"
        },
        "id": "7jJUXtY8ykqh",
        "outputId": "9fcde89c-446b-481f-85f7-dfa3c18a87fd"
      },
      "source": [
        "def probBinomial(x,n,p,q):\n",
        "  return (fatorial(n)/(fatorial(n-x)*fatorial(x)))*(p**x)*(q**(n-x))\n",
        "\n",
        "n = 7\n",
        "prob = []\n",
        "\n",
        "for x in range(8):\n",
        "  pi = probBinomial(x,n,p,q)\n",
        "  prob.append(pi)\n",
        "  print('P(',i,')=',pi)\n",
        "  \n"
      ],
      "execution_count": null,
      "outputs": [
        {
          "output_type": "stream",
          "text": [
            "P( 1 )= 0.00558625463168679\n",
            "P( 1 )= 0.04294245393658692\n",
            "P( 1 )= 0.14147386026786182\n",
            "P( 1 )= 0.2589363633356916\n",
            "P( 1 )= 0.2843551740112279\n",
            "P( 1 )= 0.18736155234125115\n",
            "P( 1 )= 0.06858471084385098\n",
            "P( 1 )= 0.01075963063184291\n"
          ],
          "name": "stdout"
        }
      ]
    },
    {
      "cell_type": "code",
      "metadata": {
        "colab": {
          "base_uri": "https://localhost:8080/"
        },
        "id": "UcxkXnCf0US5",
        "outputId": "0ae421e5-784e-49dc-eb19-d4ce76dd38cc"
      },
      "source": [
        "# Checando\n",
        "np.sum(prob)\n"
      ],
      "execution_count": null,
      "outputs": [
        {
          "output_type": "execute_result",
          "data": {
            "text/plain": [
              "1.0"
            ]
          },
          "metadata": {
            "tags": []
          },
          "execution_count": 86
        }
      ]
    },
    {
      "cell_type": "code",
      "metadata": {
        "colab": {
          "base_uri": "https://localhost:8080/",
          "height": 295
        },
        "id": "z0pO4fB41lio",
        "outputId": "5bdef8bc-723f-4cc2-f3c7-71347ca3b1a8"
      },
      "source": [
        "# Fazendo o historgrama de frequência\n",
        "x = [0,1,2,3,4,5,6,7]\n",
        "plt.bar(x,prob)\n",
        "plt.xlabel('x')\n",
        "plt.ylabel('P(x)')\n",
        "plt.title('Distribuição de Probabilidade')\n",
        "plt.grid(True)\n",
        "plt.show()"
      ],
      "execution_count": null,
      "outputs": [
        {
          "output_type": "display_data",
          "data": {
            "image/png": "[encoded data removed]",
            "text/plain": [
              "<Figure size 432x288 with 1 Axes>"
            ]
          },
          "metadata": {
            "tags": [],
            "needs_background": "light"
          }
        }
      ]
    }
  ]
}