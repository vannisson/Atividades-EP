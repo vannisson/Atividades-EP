{
  "nbformat": 4,
  "nbformat_minor": 0,
  "metadata": {
    "colab": {
      "name": "Atividade - 1.ipynb",
      "provenance": [],
      "collapsed_sections": []
    },
    "kernelspec": {
      "name": "python3",
      "display_name": "Python 3"
    },
    "language_info": {
      "name": "python"
    }
  },
  "cells": [
    {
      "cell_type": "markdown",
      "metadata": {
        "id": "R1PmRJMIichW"
      },
      "source": [
        "# Atividade 1\n",
        "O dataset utilizado nessa atividade é relacionado a preço de casas do condado de King County localizado no estado de Washington, Estados Unidos da América.\n",
        "\n",
        "O link para acesso do dataset utilizado é: https://www.kaggle.com/harlfoxem/housesalesprediction\n",
        "\n",
        "Durante essa atividade foram realizadas algumas tarefas da probabilidade descritiva;"
      ]
    },
    {
      "cell_type": "markdown",
      "metadata": {
        "id": "gUl6_MjSYVhs"
      },
      "source": [
        "Primeiro vamos importar nossos dados:"
      ]
    },
    {
      "cell_type": "code",
      "metadata": {
        "id": "NLIY07uRaJmk"
      },
      "source": [
        "# Importando as bibliotecas importantes para o processo\n",
        "import pandas as pd\n",
        "import matplotlib.pyplot as plt\n",
        "import numpy as np\n",
        "# Leitura dos dados\n",
        "url = \"https://raw.githubusercontent.com/vannisson/Atv-EP/main/kc_house_data.csv\"\n",
        "aux = pd.read_csv(url, usecols=[2])\n",
        "vendas = aux['price'].tolist()\n",
        "vendas"
      ],
      "execution_count": null,
      "outputs": []
    },
    {
      "cell_type": "markdown",
      "metadata": {
        "id": "jd3C1I0efBDV"
      },
      "source": [
        "Agora que já realizamos a leitura de nossos dados, podemos aplicar a estatística descritiva."
      ]
    },
    {
      "cell_type": "code",
      "metadata": {
        "id": "u12hp_yJSgTR"
      },
      "source": [
        "# Definindo o número de classes\n",
        "classes = 8"
      ],
      "execution_count": null,
      "outputs": []
    },
    {
      "cell_type": "markdown",
      "metadata": {
        "id": "Iine7M_dhCU2"
      },
      "source": [
        "##Descobrindo a Amplitude geral e de classes."
      ]
    },
    {
      "cell_type": "code",
      "metadata": {
        "colab": {
          "base_uri": "https://localhost:8080/"
        },
        "id": "OaCOjX8Ke9uA",
        "outputId": "6c5362cd-5f14-401b-f511-625a93b51a40"
      },
      "source": [
        "# Pegando o maior valor\n",
        "maior = max(vendas)\n",
        "# Pegando o menor valor\n",
        "menor = min(vendas)\n",
        "\n",
        "# Descobrindo a Amplitude geral\n",
        "amplitude_geral = maior - menor\n",
        "# Descobrindo a Amplitude de classe\n",
        "amplitude_classe = round(amplitude_geral/classes)\n",
        "\n",
        "print(\"Maior Valor:\",maior)\n",
        "print(\"Menor Valor:\",menor)\n",
        "print(\"Amplitude dos dados:\",amplitude_geral)\n",
        "print(\"Amplitude de classes:\",amplitude_classe)"
      ],
      "execution_count": null,
      "outputs": [
        {
          "output_type": "stream",
          "text": [
            "Maior Valor: 7700000.0\n",
            "Menor Valor: 75000.0\n",
            "Amplitude dos dados: 7625000.0\n",
            "Amplitude de classes: 953125\n"
          ],
          "name": "stdout"
        }
      ]
    },
    {
      "cell_type": "markdown",
      "metadata": {
        "id": "VbrYdU5TldR_"
      },
      "source": [
        "##Descobrindo os limites de cada classe"
      ]
    },
    {
      "cell_type": "code",
      "metadata": {
        "id": "XT5kTugHnhbv",
        "colab": {
          "base_uri": "https://localhost:8080/"
        },
        "outputId": "9b76decb-9da9-4044-8007-90e7db8a85d9"
      },
      "source": [
        "# Descobriremos os limites de cada classe\n",
        "limites_classe = [menor]\n",
        "for valor in range(classes):\n",
        "  limites_classe.append(limites_classe[valor]+amplitude_classe)\n",
        "print(\"Limites de classes:\",limites_classe)"
      ],
      "execution_count": null,
      "outputs": [
        {
          "output_type": "stream",
          "text": [
            "Limites de classes: [75000.0, 1028125.0, 1981250.0, 2934375.0, 3887500.0, 4840625.0, 5793750.0, 6746875.0, 7700000.0]\n"
          ],
          "name": "stdout"
        }
      ]
    },
    {
      "cell_type": "markdown",
      "metadata": {
        "id": "cL-aFTWLVAe0"
      },
      "source": [
        "Limites encontrados\n",
        "<table>\n",
        "  <tr><th>Classes</th><th>Frequência</th></tr>\n",
        "  <tr><td>75000-1028124</td><td></td></tr>\n",
        "  <tr><td>1028125-1981249</td><td></td></tr>\n",
        "  <tr><td>1981250-2934374</td><td></td></tr>\n",
        "  <tr><td>2934375-3887499</td><td></td></tr>\n",
        "  <tr><td>3887500-4840624</td><td></td></tr>\n",
        "  <tr><td>4840625-5793749</td><td></td></tr>\n",
        "  <tr><td>5793750-6746874</td><td></td></tr>\n",
        "  <tr><td>6746875-7699999</td><td></td></tr>\n",
        "</table>"
      ]
    },
    {
      "cell_type": "markdown",
      "metadata": {
        "id": "edNAJnWJT2bt"
      },
      "source": [
        "##Ocorrências nas classes"
      ]
    },
    {
      "cell_type": "code",
      "metadata": {
        "colab": {
          "base_uri": "https://localhost:8080/"
        },
        "id": "T-FeaVN6UI79",
        "outputId": "62c35119-dd4f-4acd-f5ef-b925b36bb238"
      },
      "source": [
        "# Descobriremos a distribuição de frequência para cada classe\n",
        "frequencias = {'classe1':0,'classe2':0,'classe3':0,'classe4':0,'classe5':0,'classe6':0,'classe7':0,'classe8':0}\n",
        "for numero in vendas:\n",
        "  if numero < limites_classe[1]:\n",
        "    frequencias['classe1'] +=1\n",
        "  elif numero < limites_classe[2]:\n",
        "    frequencias['classe2'] +=1\n",
        "  elif numero < limites_classe[3]:\n",
        "    frequencias['classe3'] +=1\n",
        "  elif numero < limites_classe[4]:\n",
        "    frequencias['classe4'] +=1\n",
        "  elif numero < limites_classe[5]:\n",
        "    frequencias['classe5'] +=1\n",
        "  elif numero < limites_classe[6]:\n",
        "    frequencias['classe6'] +=1\n",
        "  elif numero < limites_classe[7]:\n",
        "    frequencias['classe7'] +=1\n",
        "  else:\n",
        "    frequencias['classe8'] +=1\n",
        "frequencias"
      ],
      "execution_count": null,
      "outputs": [
        {
          "output_type": "execute_result",
          "data": {
            "text/plain": [
              "{'classe1': 20204,\n",
              " 'classe2': 1198,\n",
              " 'classe3': 154,\n",
              " 'classe4': 45,\n",
              " 'classe5': 5,\n",
              " 'classe6': 4,\n",
              " 'classe7': 0,\n",
              " 'classe8': 3}"
            ]
          },
          "metadata": {
            "tags": []
          },
          "execution_count": 37
        }
      ]
    },
    {
      "cell_type": "markdown",
      "metadata": {
        "id": "l_HJ4KAqVn1e"
      },
      "source": [
        "Distribuição de frequência\n",
        "<table>\n",
        "  <tr><th>Classes</th><th>Frequência</th></tr>\n",
        "  <tr><td>75000-1028124</td><td>20204</td></tr>\n",
        "  <tr><td>1028125-1981249</td><td>1198</td></tr>\n",
        "  <tr><td>1981250-2934374</td><td>154</td></tr>\n",
        "  <tr><td>2934375-3887499</td><td>45</td></tr>\n",
        "  <tr><td>3887500-4840624</td><td>5</td></tr>\n",
        "  <tr><td>4840625-5793749</td><td>4</td></tr>\n",
        "  <tr><td>5793750-6746874</td><td>0</td></tr>\n",
        "  <tr><td>6746875-7699999</td><td>3</td></tr>\n",
        "</table>\n"
      ]
    },
    {
      "cell_type": "markdown",
      "metadata": {
        "id": "A4OWYYY7Udxw"
      },
      "source": [
        "## Frequência Relativa\n"
      ]
    },
    {
      "cell_type": "code",
      "metadata": {
        "colab": {
          "base_uri": "https://localhost:8080/"
        },
        "id": "r6KsBD-wUiU1",
        "outputId": "1e3b973d-2a0e-4ae7-e941-e512ba0302a9"
      },
      "source": [
        "# Descobriremos a porcentagem de distribuição de frequência de cada classe\n",
        "ocorrencias = len(vendas)\n",
        "for classe in frequencias:\n",
        "  frequencias[classe] = frequencias[classe]/ocorrencias\n",
        "frequencias"
      ],
      "execution_count": null,
      "outputs": [
        {
          "output_type": "execute_result",
          "data": {
            "text/plain": [
              "{'classe1': 0.9348077545921436,\n",
              " 'classe2': 0.055429602554018416,\n",
              " 'classe3': 0.007125341229815389,\n",
              " 'classe4': 0.0020820802294915096,\n",
              " 'classe5': 0.00023134224772127887,\n",
              " 'classe6': 0.0001850737981770231,\n",
              " 'classe7': 0.0,\n",
              " 'classe8': 0.0001388053486327673}"
            ]
          },
          "metadata": {
            "tags": []
          },
          "execution_count": 38
        }
      ]
    },
    {
      "cell_type": "markdown",
      "metadata": {
        "id": "JPsAGebXU7et"
      },
      "source": [
        "Distribuição de Frequência\n",
        "<table>\n",
        "  <tr><th>Classes</th><th>Frequência</th><th>%</th></tr>\n",
        "  <tr><td>75000-1028124</td><td>20204</td><td>93.48</td></tr>\n",
        "  <tr><td>1028125-1981249</td><td>1198</td><td>5.54</td></tr>\n",
        "  <tr><td>1981250-2934374</td><td>154</td><td>0.071</td></tr>\n",
        "  <tr><td>2934375-3887499</td><td>45</td><td>0.020</td></tr>\n",
        "  <tr><td>3887500-4840624</td><td>5</td><td>0.0023</td></tr>\n",
        "  <tr><td>4840625-5793749</td><td>4</td><td>0.0018</td></tr>\n",
        "  <tr><td>5793750-6746874</td><td>0</td><td>0.00</td></tr>\n",
        "  <tr><td>6746875-7699999</td><td>3</td><td>0.00013</td></tr>\n",
        "</table>\n"
      ]
    },
    {
      "cell_type": "markdown",
      "metadata": {
        "id": "xwUQZ7EhY-4b"
      },
      "source": [
        "## Histograma de frequência"
      ]
    },
    {
      "cell_type": "code",
      "metadata": {
        "colab": {
          "base_uri": "https://localhost:8080/",
          "height": 295
        },
        "id": "WImmmb09ZB1q",
        "outputId": "575ef7d8-a62e-48be-8fcb-bb2d50f6891c"
      },
      "source": [
        "plt.hist(vendas,8)\n",
        "plt.xlabel('Classes')\n",
        "plt.ylabel('Quantidade')\n",
        "plt.title('Ocorrências das Classes')\n",
        "plt.grid(True)\n",
        "plt.show()"
      ],
      "execution_count": null,
      "outputs": [
        {
          "output_type": "display_data",
          "data": {
            "image/png": "[encoded data removed]",
            "text/plain": [
              "<Figure size 432x288 with 1 Axes>"
            ]
          },
          "metadata": {
            "tags": [],
            "needs_background": "light"
          }
        }
      ]
    },
    {
      "cell_type": "markdown",
      "metadata": {
        "id": "L9VxvuMneB6I"
      },
      "source": [
        "## Cálculo da Variância e Desvio Padrão"
      ]
    },
    {
      "cell_type": "code",
      "metadata": {
        "colab": {
          "base_uri": "https://localhost:8080/"
        },
        "id": "2Y5yJi20eHmJ",
        "outputId": "a5b54448-b8f8-41ae-ac76-5b2598bc96aa"
      },
      "source": [
        "# Descobrindo a média aritmética\n",
        "media = 0\n",
        "for i in vendas:\n",
        "  media += i\n",
        "media = round(media/len(vendas),2)\n",
        "media"
      ],
      "execution_count": null,
      "outputs": [
        {
          "output_type": "execute_result",
          "data": {
            "text/plain": [
              "540088.14"
            ]
          },
          "metadata": {
            "tags": []
          },
          "execution_count": 44
        }
      ]
    },
    {
      "cell_type": "markdown",
      "metadata": {
        "id": "5lQkOtGJfU0w"
      },
      "source": [
        "* Variância"
      ]
    },
    {
      "cell_type": "code",
      "metadata": {
        "colab": {
          "base_uri": "https://localhost:8080/"
        },
        "id": "fJ2Yxx4pfWJ0",
        "outputId": "5835470f-1c82-4d22-9cd1-a2f73a3e2a7e"
      },
      "source": [
        "variancia = 0\n",
        "for valor in vendas:\n",
        "  variancia += (valor - media)**2\n",
        "variancia = round(variancia/len(vendas),2)\n",
        "variancia"
      ],
      "execution_count": null,
      "outputs": [
        {
          "output_type": "execute_result",
          "data": {
            "text/plain": [
              "134776142225.57"
            ]
          },
          "metadata": {
            "tags": []
          },
          "execution_count": 46
        }
      ]
    },
    {
      "cell_type": "markdown",
      "metadata": {
        "id": "XlNJm12gftlE"
      },
      "source": [
        "* Desvio Padrão"
      ]
    },
    {
      "cell_type": "code",
      "metadata": {
        "colab": {
          "base_uri": "https://localhost:8080/"
        },
        "id": "shf2zJSGfvWG",
        "outputId": "c3643cd5-68b3-4621-d256-6a124756e75a"
      },
      "source": [
        "dp = round(variancia**(1/2),2)\n",
        "dp"
      ],
      "execution_count": null,
      "outputs": [
        {
          "output_type": "execute_result",
          "data": {
            "text/plain": [
              "367118.7"
            ]
          },
          "metadata": {
            "tags": []
          },
          "execution_count": 49
        }
      ]
    },
    {
      "cell_type": "markdown",
      "metadata": {
        "id": "y0q6_ajVg4q_"
      },
      "source": [
        "* Distribuição dos dados"
      ]
    },
    {
      "cell_type": "code",
      "metadata": {
        "colab": {
          "base_uri": "https://localhost:8080/",
          "height": 295
        },
        "id": "y269PLsLgOb2",
        "outputId": "4881a9c5-2863-44b9-88a1-b4c62a0384cf"
      },
      "source": [
        "dados = np.random.normal(media,dp,len(vendas))\n",
        "\n",
        "plt.hist(dados,10)\n",
        "plt.xlabel('Classes')\n",
        "plt.ylabel('Quantidade')\n",
        "plt.title('Distribuição dos dados')\n",
        "plt.grid(True)\n",
        "plt.show()"
      ],
      "execution_count": null,
      "outputs": [
        {
          "output_type": "display_data",
          "data": {
            "image/png": "[encoded data removed]",
            "text/plain": [
              "<Figure size 432x288 with 1 Axes>"
            ]
          },
          "metadata": {
            "tags": [],
            "needs_background": "light"
          }
        }
      ]
    }
  ]
}