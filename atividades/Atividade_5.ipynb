{
  "nbformat": 4,
  "nbformat_minor": 0,
  "metadata": {
    "colab": {
      "name": "Atividade - 5.ipynb",
      "provenance": [],
      "collapsed_sections": []
    },
    "kernelspec": {
      "name": "python3",
      "display_name": "Python 3"
    },
    "language_info": {
      "name": "python"
    }
  },
  "cells": [
    {
      "cell_type": "markdown",
      "metadata": {
        "id": "4G7i46btHFS8"
      },
      "source": [
        "# Atividade 5\n",
        "A tabela Z utilizada nessa atividade foi disponibilizada pelo professor da matéria.\n",
        "\n",
        "O link para acesso da tabela utilizada de distribuição padrão é: https://github.com/vannisson/Atv-EP/blob/main/tables/tabela-z.csv\n",
        "\n",
        "O link para acesso da tabela t student é: https://github.com/vannisson/Atv-EP/blob/main/tables/t%20student.pdf\n"
      ]
    },
    {
      "cell_type": "code",
      "metadata": {
        "id": "TaDawma0QspV"
      },
      "source": [
        "from scipy.stats import norm\n",
        "from scipy.stats import t\n",
        "from math import sqrt\n",
        "import numpy as np\n"
      ],
      "execution_count": 3,
      "outputs": []
    },
    {
      "cell_type": "markdown",
      "metadata": {
        "id": "Cetba_Cj2_Hu"
      },
      "source": [
        "## 1ª Questão\n",
        "\n",
        "Querendo determinar o peso médio de nicotina dos cigarros de sua produção, um fabricante recolheu uma amostra de 25 cigarros, obtendo x = 38 e s = 0, 5. Teste se o peso médio de nicotina é inferior a 40 mg ao nível de 5%."
      ]
    },
    {
      "cell_type": "code",
      "metadata": {
        "id": "Vr5dSBbCHEZ1",
        "colab": {
          "base_uri": "https://localhost:8080/"
        },
        "outputId": "0ff124fc-b60d-48ac-e24e-9cbeeb6a316d"
      },
      "source": [
        "# H0 = X < 40mg\n",
        "# H1 = X >= 40mg\n",
        "n = 25\n",
        "phi = n-1\n",
        "x = 38\n",
        "s = 0.5\n",
        "u = 40\n",
        "alpha = 0.05\n",
        "\n",
        "# Descobrindo t na tabela\n",
        "t_alpha_phi = t.ppf(1-alpha,phi)\n",
        "print(\"O valor de t na tabela é (24/0,05):\",t_alpha_phi)\n",
        "\n",
        "# Fazendo o Tcalc\n",
        "t_calc = (x - u)/(s/sqrt(n))\n",
        "print(\"O valor de Tcalc é:\",t_calc)\n",
        "\n",
        "# Aplicando na Hipótese\n",
        "if t_calc > t_alpha_phi:\n",
        "  print('H0 Rejeitada, dessa forma H1 é verdadeira')\n",
        "  print(\"O peso médio é superior :o\")\n",
        "else:\n",
        "  print('H0 é verdadeira')\n",
        "  print(\"O peso médio é inferior ;)\")"
      ],
      "execution_count": 30,
      "outputs": [
        {
          "output_type": "stream",
          "text": [
            "O valor de t na tabela é (24/0,05): 1.7108820799094275\n",
            "O valor de Tcalc é: -20.0\n",
            "H0 é verdadeira\n",
            "O peso médio é inferior ;)\n"
          ],
          "name": "stdout"
        }
      ]
    },
    {
      "cell_type": "markdown",
      "metadata": {
        "id": "VrZXztHG3ywF"
      },
      "source": [
        "## 2ª Questão\n",
        "\n",
        "Uma máquina é projetada para fazer esferas de aço de 1 cm de raio. Uma amostra de 10 esferas é produzida e tem o raio médio de 1,004 cm com s = 0,003. Há razões para suspeitar que a máquina esteja produzindo esferas com raio maior que 1 cm, ao nível de 10%?"
      ]
    },
    {
      "cell_type": "code",
      "metadata": {
        "colab": {
          "base_uri": "https://localhost:8080/"
        },
        "id": "OUB0dZt84Wqd",
        "outputId": "511fa804-4e72-4cb0-da79-5bb7cacc23e7"
      },
      "source": [
        "# H0 = X > 1cm\n",
        "# H1 = X <= 1cm\n",
        "n = 10\n",
        "phi = n-1\n",
        "x = 1.004\n",
        "s = 0.003\n",
        "u = 1\n",
        "alpha = 0.1\n",
        "\n",
        "# Descobrindo t na tabela\n",
        "t_alpha_phi = t.ppf(1-alpha/2,phi)\n",
        "print(\"O valor de t na tabela é (9/0,1):\",t_alpha_phi)\n",
        "\n",
        "# Fazendo o Tcalc\n",
        "t_calc = (x - u)/(s/sqrt(n))\n",
        "print(\"O valor de Tcalc é:\",t_calc)\n",
        "\n",
        "# Aplicando na Hipótese\n",
        "if t_calc < t_alpha_phi:\n",
        "  print('H0 Rejeitada, dessa forma H1 é verdadeira')\n",
        "  print(\"Não, não há razões para suspeitar :D\")\n",
        "else:\n",
        "  print('H0 é verdadeira')\n",
        "  print(\"Sim, há razões para suspeitar >:(\")"
      ],
      "execution_count": 31,
      "outputs": [
        {
          "output_type": "stream",
          "text": [
            "O valor de t na tabela é (9/0,1): 1.8331129326536335\n",
            "O valor de Tcalc é: 4.216370213557843\n",
            "H0 é verdadeira\n",
            "Sim, há razões para suspeitar >:(\n"
          ],
          "name": "stdout"
        }
      ]
    },
    {
      "cell_type": "markdown",
      "metadata": {
        "id": "LYKiEOnF4X5s"
      },
      "source": [
        "## 3ª Questão\n",
        "\n",
        "Supondo que a média e o desvio padrão das notas de um teste de habilitação para uma amostra de 20 estudantes de uma classe de 100 fossem x = 150 e s = 20, teste ao nível de confiança que µ = 160 ao nível de 95%."
      ]
    },
    {
      "cell_type": "code",
      "metadata": {
        "colab": {
          "base_uri": "https://localhost:8080/"
        },
        "id": "Rvp9ZXmO4k8t",
        "outputId": "0f8f8289-6d99-4adb-f06c-39bc2e072061"
      },
      "source": [
        "# Levando em conta 1 - 0,95 = 0.05, pois não existe 0.95 na tabela t\n",
        "# H0 = 150\n",
        "# H1 ≠ 150\n",
        "n = 20\n",
        "phi = n-1\n",
        "x = 150\n",
        "s = 20\n",
        "u = 160\n",
        "alpha = 0.05\n",
        "\n",
        "# Descobrindo t na tabela\n",
        "t_alpha_phi = t.ppf(1-alpha/2,phi)\n",
        "print(\"O valor de t na tabela é (19/0,05):\",t_alpha_phi)\n",
        "\n",
        "# Fazendo o Tcalc\n",
        "t_calc = (x - u)/(s/sqrt(n))\n",
        "print(\"O valor de Tcalc é:\",t_calc)\n",
        "\n",
        "# Aplicando na Hipótese\n",
        "if t_calc < -t_alpha_phi or t_calc > t_alpha_phi:\n",
        "  print('H0 Rejeitada, dessa forma H1 é verdadeira')\n",
        "else:\n",
        "  print('H0 é verdadeira')"
      ],
      "execution_count": 29,
      "outputs": [
        {
          "output_type": "stream",
          "text": [
            "O valor de t na tabela é (19/0,05): 2.093024054408263\n",
            "O valor de Tcalc é: -2.23606797749979\n",
            "H0 Rejeitada, dessa forma H1 é verdadeira\n"
          ],
          "name": "stdout"
        }
      ]
    },
    {
      "cell_type": "markdown",
      "metadata": {
        "id": "Sum49r1e4lhM"
      },
      "source": [
        "## 4ª Questão\n",
        "\n",
        "Um certo tipo de hormônio, ao ser injetado em galinhas, aumenta o peso médio do ovo em 0,3g. Uma amostra de 30 ovos tem média 0,4g acima da média anterior à injeção e s = 0,30. Há razões suficientes para aceitar a afirmação de que o aumento da média é superior a 0,3 ao nível de 5%?"
      ]
    },
    {
      "cell_type": "code",
      "metadata": {
        "colab": {
          "base_uri": "https://localhost:8080/"
        },
        "id": "j6kjaUTZ5cBE",
        "outputId": "c04199bf-5568-4d8a-8cc2-859714e21476"
      },
      "source": [
        "# H0 = X <= 0,3\n",
        "# H1 = X > 0,3\n",
        "n = 30\n",
        "phi = n-1\n",
        "x = 0.4\n",
        "s = 0.30\n",
        "u = 0.3\n",
        "alpha = 0.05\n",
        "\n",
        "# Descobrindo t na tabela\n",
        "t_alpha_phi = t.ppf(1-alpha,phi)\n",
        "print(\"O valor de t na tabela é (29/0,05):\",t_alpha_phi)\n",
        "\n",
        "# Fazendo o Tcalc\n",
        "t_calc = (x - u)/(s/sqrt(n))\n",
        "print(\"O valor de Tcalc é:\",t_calc)\n",
        "\n",
        "# Aplicando na Hipótese\n",
        "if t_calc > t_alpha_phi:\n",
        "  print('H0 Rejeitada, dessa forma H1 é verdadeira')\n",
        "  print(\"Sim, há razões\")\n",
        "else:\n",
        "  print('H0 é verdadeira')\n",
        "  print(\"Não, não há razões\")"
      ],
      "execution_count": 37,
      "outputs": [
        {
          "output_type": "stream",
          "text": [
            "O valor de t na tabela é (29/0,05): 1.6991270265334972\n",
            "O valor de Tcalc é: 1.8257418583505545\n",
            "H0 Rejeitada, dessa forma H1 é verdadeira\n",
            "Sim, há razões\n"
          ],
          "name": "stdout"
        }
      ]
    },
    {
      "cell_type": "markdown",
      "metadata": {
        "id": "uL1pNSec5c-0"
      },
      "source": [
        "## 5ª Questão\n",
        "\n",
        "Um certo tipo de rato apresenta, nos três primeiros meses de vida, um ganho médio de peso de 58g. Uma amostra de 10 ratos foi alimentada desde o nascimento até a idade de 3 meses com uma ração especial, e o ganho de peso médio dos ratos foi de 55, 58, 60, 62, 65, 67, 54, 64, 62 e 68. Há razões para crer, ao nível de 5%, que a ração especial aumenta o peso nos 3 primeiros meses de vida?"
      ]
    },
    {
      "cell_type": "code",
      "metadata": {
        "colab": {
          "base_uri": "https://localhost:8080/"
        },
        "id": "MXiCpXXz56xd",
        "outputId": "fdff1e0f-1eb6-47fc-a632-68d3b9d32198"
      },
      "source": [
        "# H0 = X < 58\n",
        "# H1 = X >= 58\n",
        "n = 10\n",
        "phi = n-1\n",
        "u = 58\n",
        "alpha = 0.05\n",
        "amostra = [55,58,60,62,65,67,54,64,62,68]\n",
        "x = np.mean(amostra)\n",
        "# Descobrindo o desvio padrão da amostra\n",
        "variancia = 0\n",
        "for valor in amostra:\n",
        "  variancia += (valor - x)**2\n",
        "s = variancia**(1/2)\n",
        "\n",
        "# Descobrindo t na tabela\n",
        "t_alpha_phi = t.ppf(1-alpha,phi)\n",
        "print(\"O valor de t na tabela é (29/0,05):\",t_alpha_phi)\n",
        "\n",
        "# Fazendo o Tcalc\n",
        "t_calc = (x - u)/(s/sqrt(n))\n",
        "print(\"O valor de Tcalc é:\",t_calc)\n",
        "\n",
        "# Aplicando na Hipótese\n",
        "if t_calc < -t_alpha_phi or t_calc > t_alpha_phi:\n",
        "  print('H0 Rejeitada, dessa forma H1 é verdadeira')\n",
        "  print(\"Não, não há razões\")\n",
        "else:\n",
        "  print('H0 é verdadeira')\n",
        "  print(\"Sim, há razões\")"
      ],
      "execution_count": 42,
      "outputs": [
        {
          "output_type": "stream",
          "text": [
            "O valor de t na tabela é (29/0,05): 1.8331129326536335\n",
            "O valor de Tcalc é: 0.7739651186519815\n",
            "H0 é verdadeira\n",
            "Sim, há razões\n"
          ],
          "name": "stdout"
        }
      ]
    }
  ]
}
