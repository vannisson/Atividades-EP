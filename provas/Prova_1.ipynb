{
  "nbformat": 4,
  "nbformat_minor": 0,
  "metadata": {
    "colab": {
      "name": "Prova - 1.ipynb",
      "provenance": [],
      "collapsed_sections": []
    },
    "kernelspec": {
      "name": "python3",
      "display_name": "Python 3"
    },
    "language_info": {
      "name": "python"
    }
  },
  "cells": [
    {
      "cell_type": "markdown",
      "metadata": {
        "id": "cXUd1U4shuvp"
      },
      "source": [
        "# Prova 1\n",
        "### Estatística de Probabilidade - CPTA120-A 2020.2\n",
        "Aluno: Geovane Leite de Carvalho Filho\n",
        "\n",
        "Matrícula: 19111474"
      ]
    },
    {
      "cell_type": "markdown",
      "metadata": {
        "id": "3f1CGO71iDCI"
      },
      "source": [
        "## 1ª) Sobre a estatística descritiva, responda:\n",
        "**a) Como podemos utilizar as ferramentas da estatística descritiva para realizar a análise de dados?**\n",
        "\n",
        "**R-** A estatística descritiva pode ser utilizada para extrair informações mais simples de serem entendidas de um conjunto dados, por exemplo uma lista de produtos vendidos pode indicar, através de cálculos de média, qual produto está sendo mais vendido.\n",
        "\n",
        "**b) Como uma amostra está relacionada a uma população?**\n",
        "\n",
        "**R-** Uma amostra é um subgrupo de população, sendo assim é possível inferir conclusões da amostra para toda a popoulação, através da estatística inferencial.\n"
      ]
    },
    {
      "cell_type": "markdown",
      "metadata": {
        "id": "NfWL_efQmgLk"
      },
      "source": [
        "## 2ª)  Segundo um radar, as velocidades de 15 carros numa perimetral de São Paulo no início de uma noite foram: 77, 69, 82, 76, 69, 80, 66, 70, 77, 72, 73, 80, 86, 77 e 89 quilômetros por hora.\n"
      ]
    },
    {
      "cell_type": "markdown",
      "metadata": {
        "id": "kdBcevcNo_ES"
      },
      "source": [
        "**a) Construa a tabela de frequência para o conjunto de dados, sendo 3 o número de classes.**"
      ]
    },
    {
      "cell_type": "code",
      "metadata": {
        "colab": {
          "base_uri": "https://localhost:8080/"
        },
        "id": "Uww2eizchtwx",
        "outputId": "9d18aa0d-12fc-4b27-c39e-37563fa4027e"
      },
      "source": [
        "# Definindo os valores e o número de classe\n",
        "carros = [77, 69, 82, 76, 69, 80, 66, 70, 77, 72, 73, 80, 86, 77, 89]\n",
        "classes = 3\n",
        "\n",
        "# Pegando o maior valor\n",
        "maior = max(carros)\n",
        "# Pegando o menor valor\n",
        "menor = min(carros)\n",
        "\n",
        "# Descobrindo a Amplitude geral\n",
        "amplitude_geral = maior - menor\n",
        "# Descobrindo a Amplitude de classe\n",
        "amplitude_classe = round(amplitude_geral/classes)\n",
        "\n",
        "# Descobriremos os limites de cada classe\n",
        "limites_classe = [menor]\n",
        "for valor in range(classes):\n",
        "  limites_classe.append(limites_classe[valor]+amplitude_classe)\n",
        "print(limites_classe)\n",
        "\n",
        "# Descobriremos a distribuição de frequência para cada classe\n",
        "frequencias = {'classe1':0,'classe2':0,'classe3':0}\n",
        "for numero in carros:\n",
        "  if numero < limites_classe[1]:\n",
        "    frequencias['classe1'] +=1\n",
        "  elif numero < limites_classe[2]:\n",
        "    frequencias['classe2'] +=1\n",
        "  else:\n",
        "    frequencias['classe3'] +=1\n",
        "print(frequencias)\n",
        "\n",
        "# Descobriremos a porcentagem de distribuição de frequência de cada classe\n",
        "ocorrencias = len(carros)\n",
        "for classe in frequencias:\n",
        "  frequencias[classe] = frequencias[classe]/ocorrencias\n",
        "print(frequencias)\n"
      ],
      "execution_count": null,
      "outputs": [
        {
          "output_type": "stream",
          "text": [
            "[66, 74, 82, 90]\n",
            "{'classe1': 6, 'classe2': 6, 'classe3': 3}\n",
            "{'classe1': 0.4, 'classe2': 0.4, 'classe3': 0.2}\n"
          ],
          "name": "stdout"
        }
      ]
    },
    {
      "cell_type": "markdown",
      "metadata": {
        "id": "hXBY-7sFoEZp"
      },
      "source": [
        "Tabela de frequência\n",
        "<table>\n",
        "  <tr><th>Classes</th><th>Frequência</th><th>%</th></tr>\n",
        "  <tr><td>66-73</td><td>6</td><td>40</td></tr>\n",
        "  <tr><td>74-81</td><td>6</td><td>40</td></tr>\n",
        "  <tr><td>82-90</td><td>3</td><td>20</td></tr>\n",
        "</table>\n"
      ]
    },
    {
      "cell_type": "markdown",
      "metadata": {
        "id": "aYW-G5u9pK-J"
      },
      "source": [
        "**b) Encontre a média, a mediana e a moda dos dados.**"
      ]
    },
    {
      "cell_type": "code",
      "metadata": {
        "colab": {
          "base_uri": "https://localhost:8080/"
        },
        "id": "neKCi4fhpT5y",
        "outputId": "9650935d-2d0f-429b-bcf9-30bfa5e83fc2"
      },
      "source": [
        "import numpy as np\n",
        "carros = [77, 69, 82, 76, 69, 80, 66, 70, 77, 72, 73, 80, 86, 77, 89]\n",
        "# Descobrindo a média aritmética\n",
        "media = 0\n",
        "for i in carros:\n",
        "  media += i\n",
        "media = round(media/len(carros),2)\n",
        "\n",
        "\n",
        "# Descobrindo a mediana\n",
        "carros_ord = sorted(carros)\n",
        "mediana = carros[int(len(carros_ord)/2)]\n",
        "\n",
        "# Descobrindo a moda\n",
        "contagens = [0]*len(carros)\n",
        "for i in range(len(carros)):\n",
        "  contagens[i] = carros.count(carros[i])\n",
        "indices_moda = np.where(np.array(contagens) == max(contagens))\n",
        "aux = 0\n",
        "for indice in indices_moda[0]:\n",
        "  aux = indice\n",
        "moda = carros[aux]\n",
        "\n",
        "print(\"Média:\",media)\n",
        "print(\"Mediana:\",mediana)\n",
        "print(\"Moda:\",moda)"
      ],
      "execution_count": null,
      "outputs": [
        {
          "output_type": "stream",
          "text": [
            "Média: 76.2\n",
            "Mediana: 70\n",
            "Moda: 77\n"
          ],
          "name": "stdout"
        }
      ]
    },
    {
      "cell_type": "markdown",
      "metadata": {
        "id": "i2PS0oPaqjuq"
      },
      "source": [
        "**c) Encontre a amplitude, a variância e o desvio padrão do conjunto.**"
      ]
    },
    {
      "cell_type": "code",
      "metadata": {
        "colab": {
          "base_uri": "https://localhost:8080/"
        },
        "id": "l6ARiP1Lq2hy",
        "outputId": "67bf37e6-a2fd-410f-ee6f-d69f84f7b56c"
      },
      "source": [
        "# Descobrindo a variância\n",
        "variancia = 0\n",
        "for valor in carros:\n",
        "  variancia += (valor - media)**2\n",
        "variancia = round(variancia/len(carros),2)\n",
        "\n",
        "\n",
        "# Descobrindo o desvio padrão\n",
        "dp = round(variancia**(1/2),2)\n",
        "\n",
        "print(\"Amplitude:\",amplitude_geral)\n",
        "print(\"Variância:\",variancia)\n",
        "print(\"Desvio Padrão:\",dp)"
      ],
      "execution_count": null,
      "outputs": [
        {
          "output_type": "stream",
          "text": [
            "Amplitude: 23\n",
            "Variância: 39.89\n",
            "Desvio Padrão: 6.32\n"
          ],
          "name": "stdout"
        }
      ]
    },
    {
      "cell_type": "markdown",
      "metadata": {
        "id": "nziRml_jtr8K"
      },
      "source": [
        "## 3ª) Um estudo feito em uma determinada região apontou que a probabilidade de os pais terem um filho com cabelo loiro foi de 1/4. Se houverem 6 crianças em uma família dessa região, qual a probabilidade de que 2 delas tenha cabelo loiro?"
      ]
    },
    {
      "cell_type": "code",
      "metadata": {
        "colab": {
          "base_uri": "https://localhost:8080/"
        },
        "id": "xBqbKtd6uDwL",
        "outputId": "e244a440-24fa-4743-eab9-ef682548ff96"
      },
      "source": [
        "# Função fatorial\n",
        "def fatorial(num):\n",
        "    fatorial = 1\n",
        "    i = 2\n",
        "    while i <= num:\n",
        "        fatorial = fatorial*i\n",
        "        i = i + 1\n",
        "    return fatorial\n",
        "\n",
        "def probBinomial(x,n,p,q):\n",
        "  return (fatorial(n)/(fatorial(n-x)*fatorial(x)))*(p**x)*(q**(n-x))\n",
        "\n",
        "print(\"A probabilidade de que 2 delas tenha cabelo loiro é de, aproximadamente:\",probBinomial(2,6,1/4,3/4),\"%\")\n"
      ],
      "execution_count": null,
      "outputs": [
        {
          "output_type": "stream",
          "text": [
            "A probabilidade de que 2 delas tenha cabelo loiro é de, aproximadamente: 0.296630859375 %\n"
          ],
          "name": "stdout"
        }
      ]
    },
    {
      "cell_type": "markdown",
      "metadata": {
        "id": "d7VdX1syucOc"
      },
      "source": [
        "## 4ª)  Um fabricante de máquinas de lavar sabe, por longa experiência, que a duração de suas máquinas tem duração normal com média de 1000 dias e desvio padrão de 200 dias. Oferece uma garantia de 365 dias. Produz mensalmente 2000 máquinas. Quantas espera trocar pelo uso da garantia dada, mensalmente?"
      ]
    },
    {
      "cell_type": "code",
      "metadata": {
        "colab": {
          "base_uri": "https://localhost:8080/",
          "height": 335
        },
        "id": "COhMaMpZvCsT",
        "outputId": "ffc8b45e-8e51-469e-ce39-ecc309dc4c0e"
      },
      "source": [
        "import pandas as pd\n",
        "import matplotlib.pyplot as plt\n",
        "import seaborn as sns\n",
        "\n",
        "media = 1000\n",
        "desvio = 200\n",
        "quantidade = 2000\n",
        "numeros = np.random.normal(media,desvio,quantidade)\n",
        "\n",
        "# Agora plotando a distribuição dos dados\n",
        "sns.distplot(numeros, hist=False,rug=False)\n",
        "plt.title('Distribuição Normal')\n",
        "plt.axvline(media,color='k')\n",
        "plt.show()"
      ],
      "execution_count": null,
      "outputs": [
        {
          "output_type": "stream",
          "text": [
            "/usr/local/lib/python3.7/dist-packages/seaborn/distributions.py:2557: FutureWarning: `distplot` is a deprecated function and will be removed in a future version. Please adapt your code to use either `displot` (a figure-level function with similar flexibility) or `kdeplot` (an axes-level function for kernel density plots).\n",
            "  warnings.warn(msg, FutureWarning)\n"
          ],
          "name": "stderr"
        },
        {
          "output_type": "display_data",
          "data": {
            "image/png": "[encoded data removed]",
            "text/plain": [
              "<Figure size 432x288 with 1 Axes>"
            ]
          },
          "metadata": {
            "tags": [],
            "needs_background": "light"
          }
        }
      ]
    },
    {
      "cell_type": "code",
      "metadata": {
        "colab": {
          "base_uri": "https://localhost:8080/"
        },
        "id": "g6ty62a7yOws",
        "outputId": "21e942ee-3f1d-493e-aea5-512d2fcdf547"
      },
      "source": [
        "zscore = (365-media)/desvio\n",
        "# O valor de zscore é -3.175 (0.00076)\n",
        "probabilidade = 0.00076\n",
        "# Agora que temos a probabilidade, vamos calcular a quantidade de trocas\n",
        "resultado = quantidade * probabilidade\n",
        "print(\"A quantidade de máquinas que serão trocadas é de, aproximadamente:\",resultado,\"máquinas\")"
      ],
      "execution_count": null,
      "outputs": [
        {
          "output_type": "stream",
          "text": [
            "A quantidade de máquinas que serão trocadas é de, aproximadamente: 1.52 máquinas\n"
          ],
          "name": "stdout"
        }
      ]
    },
    {
      "cell_type": "markdown",
      "metadata": {
        "id": "8ZM9GdLlvMxD"
      },
      "source": [
        "## 5ª) A experiência com trabalhadores de uma certa indústria indica que o tempo necessário para que um trabalhador, aleatoriamente selecionado, realize uma tarefa é distribuído de maneira aproximadamente normal, com desvio padrão de 12 minutos. Uma amostra de 25 trabalhadores forneceu x = 140min. Determine o intervalo de confiança de 95% para a média µ da população de todos os trabalhadores que fazem aquele determinado serviço.\n"
      ]
    },
    {
      "cell_type": "code",
      "metadata": {
        "colab": {
          "base_uri": "https://localhost:8080/",
          "height": 335
        },
        "id": "hzfVdp50vjzq",
        "outputId": "9b6f1ac3-3e19-4568-a832-ce926567219a"
      },
      "source": [
        "# Definindo os valores\n",
        "mediaAmostral = 140\n",
        "desvio = 12\n",
        "n = 25\n",
        "numeros = np.random.normal(mediaAmostral,desvio,n)\n",
        "\n",
        "# Agora plotando a distribuição dos dados\n",
        "sns.distplot(numeros, hist=False,rug=False)\n",
        "plt.title('Distribuição Normal')\n",
        "plt.axvline(mediaAmostral,color='k')\n",
        "plt.show()"
      ],
      "execution_count": null,
      "outputs": [
        {
          "output_type": "stream",
          "text": [
            "/usr/local/lib/python3.7/dist-packages/seaborn/distributions.py:2557: FutureWarning: `distplot` is a deprecated function and will be removed in a future version. Please adapt your code to use either `displot` (a figure-level function with similar flexibility) or `kdeplot` (an axes-level function for kernel density plots).\n",
            "  warnings.warn(msg, FutureWarning)\n"
          ],
          "name": "stderr"
        },
        {
          "output_type": "display_data",
          "data": {
            "image/png": "[encoded data removed]",
            "text/plain": [
              "<Figure size 432x288 with 1 Axes>"
            ]
          },
          "metadata": {
            "tags": [],
            "needs_background": "light"
          }
        }
      ]
    },
    {
      "cell_type": "code",
      "metadata": {
        "colab": {
          "base_uri": "https://localhost:8080/"
        },
        "id": "XdtGofUM2TOV",
        "outputId": "478cb9d6-a07b-4ee2-c86b-632a75cf67d8"
      },
      "source": [
        "# Ao observar a tabela t, obtemos os valores de zc e -zc (ambos 0.025):\n",
        "zc = 1.96\n",
        "\n",
        "# Agora que temos todos os dados, podemos calcular a margem de erro\n",
        "margem = zc*(desvio/n**(1/2))\n",
        "\n",
        "# Agora encontrando os extremos\n",
        "extEsquerdo = round(mediaAmostral - margem,5)\n",
        "extDireito = round(mediaAmostral + margem,5)\n",
        "print(\"O intervalo de confiança é:\",extEsquerdo,\"<\",mediaAmostral,\"<\",extDireito)"
      ],
      "execution_count": null,
      "outputs": [
        {
          "output_type": "stream",
          "text": [
            "O intervalo de confiança é: 135.296 < 140 < 144.704\n"
          ],
          "name": "stdout"
        }
      ]
    }
  ]
}